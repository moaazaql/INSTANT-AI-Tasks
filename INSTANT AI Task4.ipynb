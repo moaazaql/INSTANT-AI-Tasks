{
 "cells": [
  {
   "cell_type": "markdown",
   "id": "99a501cb",
   "metadata": {},
   "source": [
    "### 1. How to sort dictionary by keys"
   ]
  },
  {
   "cell_type": "markdown",
   "id": "c7e0624d",
   "metadata": {},
   "source": [
    "First I will create a dictionary for this example I will use food market items. Then you will use sorted()function to sort the dictionary by key. Then by value to show the difference."
   ]
  },
  {
   "cell_type": "code",
   "execution_count": 5,
   "id": "9c562c96",
   "metadata": {
    "ExecuteTime": {
     "end_time": "2022-08-14T10:41:25.203106Z",
     "start_time": "2022-08-14T10:41:25.185534Z"
    }
   },
   "outputs": [
    {
     "name": "stdout",
     "output_type": "stream",
     "text": [
      "['apple', 'carrots', 'cheese', 'chicken', 'chips', 'coffee', 'cucumber', 'meat', 'milk', 'orange', 'soda', 'tomatos']\n"
     ]
    }
   ],
   "source": [
    "# creat dictionary\n",
    "food_items = {\"milk\" : 11 ,\"cheese\" : 12 , \"meat\" : 21 , \"coffee\" : 51 ,\"tomatos\" : 31 ,\"chips\" : 52 ,\n",
    "              \"carrots\" : 32 ,\"apple\" : 42 , \"orange\" : 41 ,\"chicken\" : 22 ,\"soda\" : 53 ,\"cucumber\" : 33}\n",
    "# Now will sort the dictionary in ascending alphabetical order by key.\n",
    "\n",
    "sorted_items = sorted(food_items)\n",
    "print(sorted_items)"
   ]
  },
  {
   "cell_type": "markdown",
   "id": "7760bd5c",
   "metadata": {},
   "source": [
    " sorted() , takes three parameters : object: the  object that you want to sort (required) , (food_items)\n",
    " \n",
    " key : function for custom sort operations (optional), \n",
    " \n",
    " reverse: specifies whether the object should be sorted in descending order (optional)"
   ]
  },
  {
   "cell_type": "code",
   "execution_count": 6,
   "id": "4131ab91",
   "metadata": {
    "ExecuteTime": {
     "end_time": "2022-08-14T10:41:25.218553Z",
     "start_time": "2022-08-14T10:41:25.204364Z"
    }
   },
   "outputs": [
    {
     "name": "stdout",
     "output_type": "stream",
     "text": [
      "['tomatos', 'soda', 'orange', 'milk', 'meat', 'cucumber', 'coffee', 'chips', 'chicken', 'cheese', 'carrots', 'apple']\n"
     ]
    }
   ],
   "source": [
    "# Now will sort the dictionary in  descending alphabetical order by key.\n",
    "sorted_items2 = sorted(food_items,reverse=True)\n",
    "print(sorted_items2)"
   ]
  },
  {
   "cell_type": "code",
   "execution_count": 7,
   "id": "7d149a4a",
   "metadata": {
    "ExecuteTime": {
     "end_time": "2022-08-14T10:41:25.233688Z",
     "start_time": "2022-08-14T10:41:25.219556Z"
    }
   },
   "outputs": [
    {
     "name": "stdout",
     "output_type": "stream",
     "text": [
      "['milk', 'cheese', 'meat', 'chicken', 'tomatos', 'carrots', 'cucumber', 'orange', 'apple', 'coffee', 'chips', 'soda']\n"
     ]
    }
   ],
   "source": [
    "# Now will sort the dictionary in ascending order by Value.\n",
    "sorted_items3 = sorted(food_items,key= food_items.get )\n",
    "print(sorted_items3)"
   ]
  },
  {
   "cell_type": "markdown",
   "id": "62c1fe37",
   "metadata": {},
   "source": [
    "### 2.Compare between Adjacency Matrix/List"
   ]
  },
  {
   "cell_type": "markdown",
   "id": "692e2252",
   "metadata": {},
   "source": [
    "#### Adjacency Matrix\n",
    "\n",
    "It is a two-dimensional array that uses vertices of a graph As column and row headings, it gives a value of 1 when there is a link(edge), and a value of 0 when there is no link(edge) between the column heading and the row heading.\n",
    "\n",
    "It's size is n*n (n = number of vertices (nodes) in graph)\n",
    "\n",
    "It is fast to lookup and check for presence or absence of a specific edge\n",
    "\n",
    "Is is slow to add/delete node or delete edge, but fast to add new edge \n",
    "\n",
    "can be used to represent weighted  and unweighted graphs\n",
    "\n",
    "#### Adjacency List\n",
    "\n",
    "It is a method based on linked lists to represent a graph where each node is represented by a list and the first element in the list is the vertice and followed by the edges.\n",
    "\n",
    "Memory usage depends more on the number of edges (and less on the number of nodes)\n",
    "\n",
    "Is is faster to add/delete node or edge.\n",
    "\n",
    "can be used to represent weighted and unweighted graphs by being slightly changed to even store the weight of the edge\n",
    "\n",
    "\n",
    "|Equations | Adjacency Matrix | Adjacency List |\n",
    "| --- | --- | --- |\n",
    "| Storage Space | V^2 | V+E |\n",
    "| Adding a vertex  | V^2 | 1 |\n",
    "| Adding an edge | 1 | 1 |\n",
    "| Removing a vertex   | V^2 | V+E |\n",
    "| Removing an edge | 1 | E |\n",
    "| Querying | 1 | V |\n",
    "\n",
    "E = number of edges\n",
    "\n",
    "V = number of vertices                      \n"
   ]
  },
  {
   "cell_type": "markdown",
   "id": "dabc544d",
   "metadata": {},
   "source": [
    "### 3.How does DFS and BFS work"
   ]
  },
  {
   "cell_type": "markdown",
   "id": "263380a4",
   "metadata": {},
   "source": [
    "### BFS = Breadth First Searsh :\n",
    "\n",
    "    It's a technipue for finding the shortest way in the graph it's a vertices based algorithm.\n",
    "\n",
    "#### How dose it work ?\n",
    "\n",
    "    It selects a single node (source point) in a graph then visita all the nodes that are linked to it ( It markes every node it vists).\n",
    " \n",
    "    Once the algorithm visits and marks the starting node, then it moves towards the nearest unvisited nodes and analyses them.\n",
    " \n",
    "### DFS = Depth First Search\n",
    "\n",
    "    It's also a technipue for finding the shortest way in the graph but it's a edge based algorithm.\n",
    "    \n",
    "#### How dose it work ?\n",
    "\n",
    "    It starts from the root node and explors each branch before backtracking to the source of the branch.\n",
    "    \n",
    "    It uses stack data structure to get back to the next root that it  will search in it's source, whenever a dead-end appears in any iteration.\n"
   ]
  },
  {
   "cell_type": "markdown",
   "id": "35efcac5",
   "metadata": {},
   "source": [
    "### 4.Create your own library and use it"
   ]
  },
  {
   "cell_type": "markdown",
   "id": "fe280459",
   "metadata": {},
   "source": [
    "I have created a library called \"my_L\" and put in it som functions that have been made in former tasks "
   ]
  },
  {
   "cell_type": "code",
   "execution_count": 1,
   "id": "cabe6700",
   "metadata": {
    "ExecuteTime": {
     "end_time": "2022-08-17T10:47:50.331895Z",
     "start_time": "2022-08-17T10:47:50.309967Z"
    }
   },
   "outputs": [],
   "source": [
    "# Calling the library\n",
    "from my_L import max_of_3"
   ]
  },
  {
   "cell_type": "code",
   "execution_count": 2,
   "id": "6dbc33ad",
   "metadata": {
    "ExecuteTime": {
     "end_time": "2022-08-17T10:47:51.255913Z",
     "start_time": "2022-08-17T10:47:51.247216Z"
    }
   },
   "outputs": [
    {
     "name": "stdout",
     "output_type": "stream",
     "text": [
      "44\n"
     ]
    }
   ],
   "source": [
    "# using one of the functions from the library\n",
    "print(max_of_3(12,5,44))"
   ]
  },
  {
   "cell_type": "markdown",
   "id": "30e3278b",
   "metadata": {},
   "source": [
    "### 5.Create a function receives stack elements as inputs from user while not equal to zero\n",
    "### (not solved)"
   ]
  },
  {
   "cell_type": "markdown",
   "id": "2a0d85de",
   "metadata": {},
   "source": [
    "### 6.Implement Unordered/Multi set in Python\n",
    "\n",
    "For this task I will use counter function from collections library"
   ]
  },
  {
   "cell_type": "code",
   "execution_count": 10,
   "id": "ec471731",
   "metadata": {
    "ExecuteTime": {
     "end_time": "2022-08-14T11:29:04.957353Z",
     "start_time": "2022-08-14T11:29:04.944848Z"
    }
   },
   "outputs": [],
   "source": [
    "# importing the library \n",
    "import collections"
   ]
  },
  {
   "cell_type": "markdown",
   "id": "e4e58f84",
   "metadata": {},
   "source": [
    "As example I will create a multiset that counts how many times a team members had logged in the workspace"
   ]
  },
  {
   "cell_type": "code",
   "execution_count": 11,
   "id": "7db910d7",
   "metadata": {
    "ExecuteTime": {
     "end_time": "2022-08-14T11:32:30.776345Z",
     "start_time": "2022-08-14T11:32:30.768342Z"
    }
   },
   "outputs": [
    {
     "name": "stdout",
     "output_type": "stream",
     "text": [
      "Counter({'Ahmed': 1, 'Ali': 1, 'Omar': 1, 'Moustafa': 1, 'Anas': 1})\n"
     ]
    }
   ],
   "source": [
    "# Creating the multiset\n",
    "logins = collections.Counter()\n",
    "day1 = {'Ahmed':1,'Ali':1,'Omar':1,'Moustafa':1,'Anas':1}\n",
    "logins.update(day1)\n",
    "print(logins)"
   ]
  },
  {
   "cell_type": "code",
   "execution_count": 12,
   "id": "3a860f9d",
   "metadata": {
    "ExecuteTime": {
     "end_time": "2022-08-14T11:33:08.941326Z",
     "start_time": "2022-08-14T11:33:08.936210Z"
    }
   },
   "outputs": [
    {
     "name": "stdout",
     "output_type": "stream",
     "text": [
      "Counter({'Ahmed': 2, 'Omar': 2, 'Anas': 2, 'Ali': 1, 'Moustafa': 1})\n"
     ]
    }
   ],
   "source": [
    "# updating the multiset\n",
    "day2 = {'Ahmed':1,'Omar':1,'Anas':1}\n",
    "logins.update(day2)\n",
    "print(logins)"
   ]
  },
  {
   "cell_type": "code",
   "execution_count": 13,
   "id": "6a5c8f2c",
   "metadata": {
    "ExecuteTime": {
     "end_time": "2022-08-14T11:33:18.668513Z",
     "start_time": "2022-08-14T11:33:18.664512Z"
    }
   },
   "outputs": [
    {
     "name": "stdout",
     "output_type": "stream",
     "text": [
      "Counter({'Ahmed': 3, 'Anas': 3, 'Ali': 2, 'Omar': 2, 'Moustafa': 2})\n"
     ]
    }
   ],
   "source": [
    "day3 = {'Ahmed':1,'Ali':1,'Anas':1,'Moustafa':1}\n",
    "logins.update(day3)\n",
    "print(logins)"
   ]
  },
  {
   "cell_type": "markdown",
   "id": "c706e885",
   "metadata": {},
   "source": [
    "## Task 5  \n",
    "\n",
    "### The task of   : Sunday : 14 / 8 / 2022  Session"
   ]
  },
  {
   "cell_type": "markdown",
   "id": "207a61ed",
   "metadata": {},
   "source": [
    "### 1.  How dose destructor works in Python"
   ]
  },
  {
   "cell_type": "markdown",
   "id": "5e389d21",
   "metadata": {},
   "source": [
    "In object-oriented programming, A destructor is called when an object is deleted or destroyed. Destructor is used to perform the clean-up activity before destroying the object, such as closing database connections or filehandle.\n",
    "\n",
    "The destructor is the reverse of the constructor. The constructor is used to initialize objects, while the destructor is used to delete or destroy the object that releases the resource occupied by the object.\n",
    "\n",
    "destructor gets called in the following two cases\n",
    "\n",
    "When an object goes out of scope or\n",
    "The reference counter of the object reaches 0.\n",
    "\n",
    "The special method __del__() is used to define a destructor."
   ]
  },
  {
   "cell_type": "code",
   "execution_count": 3,
   "id": "7f0788f8",
   "metadata": {
    "ExecuteTime": {
     "end_time": "2022-08-17T11:32:12.779532Z",
     "start_time": "2022-08-17T11:32:12.763278Z"
    }
   },
   "outputs": [
    {
     "name": "stdout",
     "output_type": "stream",
     "text": [
      "market branch id 120\n",
      "Object destroyed\n"
     ]
    }
   ],
   "source": [
    "class market:\n",
    "    #constructor\n",
    "    def __init__(self,id):\n",
    "        self.id = id\n",
    "    \n",
    "    def output(self):\n",
    "        print(\"market branch id\",self.id)\n",
    "    \n",
    "    #destructor\n",
    "    def __del__(self):\n",
    "        print(\"Object destroyed\")\n",
    "        \n",
    "# creating object\n",
    "market1 = market(120)\n",
    "market1.output()\n",
    "\n",
    "\n",
    "#delete object\n",
    "del market1        "
   ]
  },
  {
   "cell_type": "code",
   "execution_count": null,
   "id": "a377ecab",
   "metadata": {},
   "outputs": [],
   "source": []
  }
 ],
 "metadata": {
  "kernelspec": {
   "display_name": "Python 3 (ipykernel)",
   "language": "python",
   "name": "python3"
  },
  "language_info": {
   "codemirror_mode": {
    "name": "ipython",
    "version": 3
   },
   "file_extension": ".py",
   "mimetype": "text/x-python",
   "name": "python",
   "nbconvert_exporter": "python",
   "pygments_lexer": "ipython3",
   "version": "3.9.7"
  }
 },
 "nbformat": 4,
 "nbformat_minor": 5
}
