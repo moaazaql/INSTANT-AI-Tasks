{
 "cells": [
  {
   "cell_type": "code",
   "execution_count": null,
   "id": "26299e38",
   "metadata": {
    "ExecuteTime": {
     "end_time": "2022-09-04T11:22:00.516605Z",
     "start_time": "2022-09-04T11:22:00.506947Z"
    }
   },
   "outputs": [],
   "source": [
    "book_list = [\"DELETED\",\"Rage Inside The Machine\",\"Army of None\",\"A World Without Work\",\"The Rise of the Robots\",\n",
    "            \"Enterprise Artificial intelligence transformation\",\"Re-Engineering Humanity\",\n",
    "            \"ComSec\",\"Paradigm Shift in Technologyies and Innovation Systems\",\"Future -Ready Leadership\",\n",
    "            \"Search Engine Society\",\"Legal Tech and Digital Transformation\",\"Big Data Big Challenges\",\n",
    "            \"Online Film Production in China\",\"Transforming Healthcare with Big Data and AI\",\"Gift of Fire\",\n",
    "            \"Tools and Weapons\",\"Information Technology Low\",\"Who Owns the Future\",\n",
    "            \"Participatory Culture in a Networked Era\",\"Technology vs Humanity\",\"Race After Technology\",\n",
    "            \"Regulating Social Media\",\"PLAN\",\"Angel\",\"Geek Heresy\",\"Like War\"]"
   ]
  },
  {
   "cell_type": "code",
   "execution_count": null,
   "id": "aa2a2ac2",
   "metadata": {
    "ExecuteTime": {
     "end_time": "2022-09-04T11:22:02.574117Z",
     "start_time": "2022-09-04T11:22:02.554871Z"
    }
   },
   "outputs": [],
   "source": [
    "class library:\n",
    "    def __init__(self,listofbooks,library_name):\n",
    "        self.lisoftbooks = listofbooks\n",
    "        self.library_name = library_name\n",
    "    \n",
    "    \n",
    "    def Displaybook(self):\n",
    "            print(self.lisoftbooks)\n",
    "            \n",
    "    def Lendbook(self):\n",
    "        book_name = input(str)\n",
    "        if book_name in self.lisoftbooks:\n",
    "            print(f\"your book \\n{book_name}\\n has been found \\n you can borrow it\")\n",
    "            self.lisoftbooks.remove(book_name)\n",
    "        else:\n",
    "            print(\"book not fount\")\n",
    "        \n",
    "    def Addbook(self):\n",
    "        print(\"Please enter the name of the book that you wish to add\")\n",
    "        book_name = input(str)\n",
    "        if book_name in self.lisoftbooks:\n",
    "            print(\"Thank you but this book already exists in this library\")\n",
    "        else:\n",
    "            self.lisoftbooks.append(book_name)\n",
    "            print(\"Thank you for adding this book\")\n",
    "            \n",
    "    def Returnbook(self):\n",
    "        book_name = input(str)\n",
    "        self.lisoftbooks.append(book_name)\n",
    "        print(\"Thank you for returning the book , We hope that you enjoyed it \")\n",
    "        return self.lisoftbooks.append(book_name)\n",
    "        "
   ]
  },
  {
   "cell_type": "code",
   "execution_count": null,
   "id": "8a16ff60",
   "metadata": {
    "ExecuteTime": {
     "start_time": "2022-09-04T11:22:14.850Z"
    }
   },
   "outputs": [],
   "source": [
    "HarryLibrary = library(book_list,\"Harry Library\")\n",
    "\n",
    "print(f\"Welcome to {HarryLibrary.library_name}\")\n",
    "\n",
    "while True:\n",
    "    print(f\"pleas enter \\n d \\t To display avilable books \\n b \\t To borrow a book \\n a \\t to add a book \\n r \\t to return a book\")\n",
    "    order = input(str)\n",
    "    \n",
    "    if order == \"d\":\n",
    "        print(HarryLibrary.Displaybook())\n",
    "    elif order == \"b\":\n",
    "        HarryLibrary.Lendbook()\n",
    "    elif order == \"a\":\n",
    "        HarryLibrary.Addbook()\n",
    "    elif order == \"r\":\n",
    "        HarryLibrary.Returnbook()\n",
    "    else:\n",
    "        print(\"Inavlied Input\")\n",
    "    "
   ]
  },
  {
   "cell_type": "code",
   "execution_count": null,
   "id": "b9d5cd20",
   "metadata": {},
   "outputs": [],
   "source": []
  }
 ],
 "metadata": {
  "kernelspec": {
   "display_name": "Python 3 (ipykernel)",
   "language": "python",
   "name": "python3"
  },
  "language_info": {
   "codemirror_mode": {
    "name": "ipython",
    "version": 3
   },
   "file_extension": ".py",
   "mimetype": "text/x-python",
   "name": "python",
   "nbconvert_exporter": "python",
   "pygments_lexer": "ipython3",
   "version": "3.9.7"
  }
 },
 "nbformat": 4,
 "nbformat_minor": 5
}
