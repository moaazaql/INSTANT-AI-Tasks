{
 "cells": [
  {
   "cell_type": "markdown",
   "id": "8a04b720",
   "metadata": {},
   "source": [
    "### Binary Search : Recursive"
   ]
  },
  {
   "cell_type": "code",
   "execution_count": 13,
   "id": "c518465f",
   "metadata": {
    "ExecuteTime": {
     "end_time": "2022-08-10T16:08:46.457150Z",
     "start_time": "2022-08-10T16:08:46.451149Z"
    }
   },
   "outputs": [
    {
     "name": "stdout",
     "output_type": "stream",
     "text": [
      "9\n"
     ]
    }
   ],
   "source": [
    "def binary_SH(arr,low,high,x):\n",
    "    if low <= high :\n",
    "        mid = (high+low)//2\n",
    "        if arr[mid] == x:\n",
    "            return mid\n",
    "        elif arr[mid] > x :\n",
    "            return binary_SH(arr,low,mid-1,x)\n",
    "        else:\n",
    "            return binary_SH(arr,mid+1,high,x)\n",
    "    else:\n",
    "        return -1\n",
    "arr = [1,2,3,4,6,8,9,10,14,19,22,27,33]\n",
    "x = 19\n",
    "result = binary_SH(arr,0,len(arr)-1,x)\n",
    "if result != -1 :\n",
    "    print (str(result))\n",
    "else:\n",
    "        print(\"this element is not in the array\")"
   ]
  },
  {
   "cell_type": "markdown",
   "id": "c8237620",
   "metadata": {},
   "source": [
    "### Binary Search : Iterative"
   ]
  },
  {
   "cell_type": "code",
   "execution_count": 16,
   "id": "0e5ea669",
   "metadata": {
    "ExecuteTime": {
     "end_time": "2022-08-10T16:11:14.688261Z",
     "start_time": "2022-08-10T16:11:14.677693Z"
    }
   },
   "outputs": [
    {
     "name": "stdout",
     "output_type": "stream",
     "text": [
      "9\n"
     ]
    }
   ],
   "source": [
    "def binary_SH(arr, x):\n",
    "    low = 0\n",
    "    high = len(arr) - 1\n",
    "    mid = 0\n",
    " \n",
    "    while low <= high:\n",
    "        mid = (high + low) // 2\n",
    "        if arr[mid] < x:\n",
    "            low = mid + 1\n",
    "        elif arr[mid] > x:\n",
    "            high = mid - 1\n",
    "        else:\n",
    "            return mid\n",
    "    return -1\n",
    " \n",
    "arr = [1,2,3,4,6,8,9,10,14,19,22,27,33]\n",
    "x = 19\n",
    "result = binary_SH(arr, x)\n",
    " \n",
    "if result != -1 :\n",
    "    print (str(result))\n",
    "else:\n",
    "        print(\"this element is not in the array\")"
   ]
  },
  {
   "cell_type": "code",
   "execution_count": null,
   "id": "8c637864",
   "metadata": {},
   "outputs": [],
   "source": []
  }
 ],
 "metadata": {
  "kernelspec": {
   "display_name": "Python 3 (ipykernel)",
   "language": "python",
   "name": "python3"
  },
  "language_info": {
   "codemirror_mode": {
    "name": "ipython",
    "version": 3
   },
   "file_extension": ".py",
   "mimetype": "text/x-python",
   "name": "python",
   "nbconvert_exporter": "python",
   "pygments_lexer": "ipython3",
   "version": "3.9.7"
  }
 },
 "nbformat": 4,
 "nbformat_minor": 5
}
