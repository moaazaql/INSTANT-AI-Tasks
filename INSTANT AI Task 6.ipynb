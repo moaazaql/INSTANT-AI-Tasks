{
 "cells": [
  {
   "cell_type": "markdown",
   "id": "99627009",
   "metadata": {},
   "source": [
    "### 1- Ternary Search\n",
    "\n",
    "It is considered to be a divide and conquer algorithm and it's that can be used to find an element in an array. It is similar to binary search where we divide the array into two parts but in this algorithm, we divide the given array into three parts and determine which has the key."
   ]
  },
  {
   "cell_type": "markdown",
   "id": "146b846d",
   "metadata": {},
   "source": [
    "#### How Ternary Search works?\n",
    "1. Divide the array into three parts :  by taking \n",
    "\n",
    "mid 1 &  mid 2 \n",
    "\n",
    "mid1 = l + (r-l)/3 \n",
    "\n",
    "mid2 = r – (r-l)/3 \n",
    "\n",
    "l = Starting index\n",
    "\n",
    "r = length of array\n",
    "\n",
    "2. Compare the key with the element at mid1. If found equal, we return mid1.\n",
    "\n",
    "3. If not, then compare the key with the element at mid2. If found equal, we return mid2.\n",
    "\n",
    "4. If not, then check whether the key is less than the element at mid1. If yes, then recur to the first part.\n",
    "\n",
    "5. If not, then check whether the key is greater than the element at mid2. If yes, then recur to the third part.\n",
    "\n",
    "6. If not, then recur to the second (middle) part."
   ]
  },
  {
   "cell_type": "code",
   "execution_count": 10,
   "id": "eb9dea2e",
   "metadata": {
    "ExecuteTime": {
     "end_time": "2022-08-28T15:45:14.017763Z",
     "start_time": "2022-08-28T15:45:13.998241Z"
    }
   },
   "outputs": [
    {
     "name": "stdout",
     "output_type": "stream",
     "text": [
      "Index of 4 is 3\n",
      "Index of 8 is 7\n",
      "Index of 13 is 12\n",
      "not found\n",
      "Index of 17 is None\n"
     ]
    }
   ],
   "source": [
    "#  Implementation\n",
    "def ternary_s(l,r,key,array):\n",
    "    if (l<=r):\n",
    "        mid1 = l+(r-l)//3\n",
    "        mid2 = r-(r-l)//3\n",
    "        \n",
    "        if(array[mid1]== key):\n",
    "            return mid1\n",
    "        if (array[mid2]== key):\n",
    "            return mid2\n",
    "        if (key < array[mid1]):\n",
    "            return ternary_s(l,mid1-1,key,array)\n",
    "        elif(key > array[mid2]):\n",
    "            return ternary_s(mid2+1,r,key,array)\n",
    "        else:\n",
    "             return ternary_s(mid1+1,mid2-1,key,array)\n",
    "            \n",
    "    else:\n",
    "        print(\"not found\")\n",
    "\n",
    "# example \n",
    "array = [1,2,3,4,5,6,7,8,9,10,11,12,13,14,15]\n",
    "l = 0 \n",
    "r = 14\n",
    "key = 4 \n",
    "print (\"Index of\", key, \"is\", ternary_s(l,r,key,array))\n",
    "key2 = 8\n",
    "print (\"Index of\", key2, \"is\", ternary_s(l,r,key2,array))\n",
    "key3 = 13 \n",
    "print (\"Index of\", key3, \"is\", ternary_s(l,r,key3,array))\n",
    "key4= 17\n",
    "print (\"Index of\", key4, \"is\", ternary_s(l,r,key4,array))\n"
   ]
  },
  {
   "cell_type": "markdown",
   "id": "942e2c80",
   "metadata": {},
   "source": [
    "### 2- What are the most common design patterns?"
   ]
  },
  {
   "cell_type": "markdown",
   "id": "b7c5f1a3",
   "metadata": {},
   "source": [
    "A software design pattern is a general, reusable solution of how to solve a common problem when designing an application or system.\n",
    "\n",
    "The most famous book in this field is \"Design Patterns: Elements of Reusable Object-Oriented Software\" a 1994 book published by the “Gang of Four” (GoF): Erich Gamma, Richard Helm, Ralph Johnson, and John Vlissides. Due to this, the 23 design patterns are often known as the gang of four design patterns.\n",
    "\n",
    "There are more design patterns than those mentioned in the book but the 23 patterns are conceded the most common design patterns.\n",
    "\n",
    "Design patterns can be broken down into three types, organized by their intent into creational design patterns, structural design patterns, and behavioral design patterns."
   ]
  },
  {
   "cell_type": "markdown",
   "id": "d2c7db10",
   "metadata": {},
   "source": [
    "#### a. creational design patterns\n",
    "\n",
    "1. Factory Method\n",
    "\n",
    "2. Abstract Factory\n",
    "\n",
    "3. Builder\n",
    "\n",
    "4. Prototype\n",
    "\n",
    "5. Singleton"
   ]
  },
  {
   "cell_type": "markdown",
   "id": "593e290d",
   "metadata": {},
   "source": [
    "#### b.  structural design patterns\n",
    "\n",
    "1. Adapter\n",
    "\n",
    "2. Bridge\n",
    "\n",
    "3. Composite\n",
    "\n",
    "4. Decorator\n",
    "\n",
    "5. Façade\n",
    "\n",
    "6. Flyweight \n",
    "\n",
    "7. Proxy"
   ]
  },
  {
   "cell_type": "markdown",
   "id": "3acbb89e",
   "metadata": {},
   "source": [
    "#### c. behavioral design patterns\n",
    "\n",
    "1. Chain of Responsibility\n",
    "\n",
    "2. Command\n",
    "\n",
    "3. Interpreter\n",
    "\n",
    "4. Iterator\n",
    "\n",
    "5. Mediator\n",
    "\n",
    "6. Memento\n",
    "\n",
    "7. Observer\n",
    "\n",
    "8. State\n",
    "\n",
    "9. Strategy\n",
    "\n",
    "10. Visitor\n",
    "\n",
    "11. Template Method"
   ]
  },
  {
   "cell_type": "markdown",
   "id": "c1e5df4e",
   "metadata": {},
   "source": [
    "### 3- Agile vs DevOps"
   ]
  },
  {
   "cell_type": "markdown",
   "id": "172d9493",
   "metadata": {},
   "source": [
    "|Comparison | Agile | DevOps |\n",
    "| --- | --- | --- |\n",
    "| Inception | 2001 | 2007 |\n",
    "| Inventors | John Kern, Martin Fowler at al. | John Allspaw and Paul Hammond at Flickr, and The Phoenix Project by Gene Kim |\n",
    "| Highest priority\t | Continuous delivery of software\t | Continuous deployment of software |\n",
    "| Founding artifact | Agile Manifesto | The Phoenix Project |\n",
    "| Implementation frameworks\t| Scrum, Kanban, ScrumBan, Lean, XP\t | CAMS, CALMS, DORA\n",
    " |\n",
    "| Alternatives | Waterfall | Silo based development and deployment\n",
    " |\n",
    "| Team size\t | Used by small teams of 10 or less\t | Implemented as a company wide strategy\n",
    " |\n",
    "| Scope | Focuses on the development of a single application| A corporate wide approach to software deployment |"
   ]
  },
  {
   "cell_type": "markdown",
   "id": "0033f03e",
   "metadata": {},
   "source": [
    "### 4- DevOps tools"
   ]
  },
  {
   "cell_type": "markdown",
   "id": "f61884da",
   "metadata": {},
   "source": [
    "DevOps consists of several stages and uses different tools to meet the requirements of each stage and each stage consists of different parts, So I will mentione the main tooals that are used for every stage an part."
   ]
  },
  {
   "cell_type": "markdown",
   "id": "0ec71e19",
   "metadata": {},
   "source": [
    "### 1. plan :\n",
    "\n",
    "Slak , Confluence , JiraSoftware\n",
    "\n",
    "### 2. Build\n",
    "\n",
    "##### a. Production-identical environments for development: \n",
    "\n",
    "Kubernetes , Docker\n",
    "\n",
    "##### b. Infrastructure as code:\n",
    "\n",
    "puppet , Terraform , CHEF \n",
    "\n",
    "##### c. Source control and collaborative coding:\n",
    "\n",
    "GitHub , GitLab , bitbucket\n",
    "\n",
    "### 3. Continuous integration and delivery\n",
    "\n",
    "##### a. Continuous integration:\n",
    "\n",
    "Amazon Web Services , Jenkins , Sonarsource\n",
    "\n",
    "##### b. Test:\n",
    "XRAY , Zephyr , mabl\n",
    "\n",
    "##### c. Deployment dashboards:\n",
    "\n",
    "JiraSoftware\n",
    "\n",
    "##### d. Automated deployment:\n",
    "\n",
    "bitbucket , AWS CodePipline\n",
    "\n",
    "### 4. Operate\n",
    "##### a. Application and server performance monitoring:\n",
    "\n",
    "Slak , APPDYNAMICS , splunk , sumo logic , Nagios\n",
    "\n",
    "##### b. Incident, change and problem tracking: \n",
    "\n",
    "JiraSoftware , Jira Service Management , Opsgenie , Statuspage\n",
    "\n",
    "### 5. Continuous Feedback\n",
    "\n",
    "GetFeedback , slack , pendo ,  Jira Service Management"
   ]
  }
 ],
 "metadata": {
  "kernelspec": {
   "display_name": "Python 3 (ipykernel)",
   "language": "python",
   "name": "python3"
  },
  "language_info": {
   "codemirror_mode": {
    "name": "ipython",
    "version": 3
   },
   "file_extension": ".py",
   "mimetype": "text/x-python",
   "name": "python",
   "nbconvert_exporter": "python",
   "pygments_lexer": "ipython3",
   "version": "3.9.7"
  }
 },
 "nbformat": 4,
 "nbformat_minor": 5
}
