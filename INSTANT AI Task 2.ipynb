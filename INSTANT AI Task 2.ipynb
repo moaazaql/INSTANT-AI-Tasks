{
 "cells": [
  {
   "cell_type": "markdown",
   "id": "fa1874cb",
   "metadata": {},
   "source": [
    "## 1."
   ]
  },
  {
   "cell_type": "code",
   "execution_count": 15,
   "id": "e16e16d5",
   "metadata": {
    "ExecuteTime": {
     "end_time": "2022-08-07T08:20:03.903966Z",
     "start_time": "2022-08-07T08:20:03.889931Z"
    }
   },
   "outputs": [
    {
     "name": "stdout",
     "output_type": "stream",
     "text": [
      "[1505, 1540, 1575, 1610, 1645, 1680, 1715, 1750, 1785, 1820, 1855, 1890, 1925, 1960, 1995, 2030, 2065, 2100, 2135, 2170, 2205, 2240, 2275, 2310, 2345, 2380, 2415, 2450, 2485, 2520, 2555, 2590, 2625, 2660, 2695]\n"
     ]
    }
   ],
   "source": [
    "list_1 = []\n",
    "for i in range (1500,2700):\n",
    "    if (i % 7 == 0) and (i % 5 == 0):\n",
    "        list_1.append(i)\n",
    "print(list_1)"
   ]
  },
  {
   "cell_type": "markdown",
   "id": "9df203a3",
   "metadata": {},
   "source": [
    "## 2."
   ]
  },
  {
   "cell_type": "code",
   "execution_count": 12,
   "id": "a352bf8c",
   "metadata": {
    "ExecuteTime": {
     "end_time": "2022-08-07T08:19:46.368113Z",
     "start_time": "2022-08-07T08:19:37.314685Z"
    }
   },
   "outputs": [
    {
     "name": "stdout",
     "output_type": "stream",
     "text": [
      " Insert the temperature degree :101\n"
     ]
    }
   ],
   "source": [
    "degree = int(input(\" Insert the temperature degree :\"))"
   ]
  },
  {
   "cell_type": "code",
   "execution_count": 13,
   "id": "b26238eb",
   "metadata": {
    "ExecuteTime": {
     "end_time": "2022-08-07T08:19:54.295671Z",
     "start_time": "2022-08-07T08:19:48.122821Z"
    }
   },
   "outputs": [
    {
     "name": "stdout",
     "output_type": "stream",
     "text": [
      " Insert the temperature scale (c / f):f\n"
     ]
    }
   ],
   "source": [
    "scale = str(input(\" Insert the temperature scale (c / f):\"))"
   ]
  },
  {
   "cell_type": "code",
   "execution_count": 14,
   "id": "9e8591e7",
   "metadata": {
    "ExecuteTime": {
     "end_time": "2022-08-07T08:19:55.944219Z",
     "start_time": "2022-08-07T08:19:55.937213Z"
    }
   },
   "outputs": [
    {
     "name": "stdout",
     "output_type": "stream",
     "text": [
      "temperature in Celsius​ is:  38\n"
     ]
    }
   ],
   "source": [
    "if scale == 'f' :\n",
    "    result = int((degree - 32) * (5 / 9))\n",
    "    print(\"temperature in Celsius​ is: \", result)\n",
    "elif scale == 'c' :\n",
    "    result = int((9 * degree) / 5 + 32)\n",
    "    print(\"temperature in Fahrenheit is: \", result)\n",
    "else : \n",
    "    print(\"please insert proper degree and scale\")"
   ]
  },
  {
   "cell_type": "markdown",
   "id": "5d858ac9",
   "metadata": {},
   "source": [
    "### 3."
   ]
  },
  {
   "cell_type": "code",
   "execution_count": 10,
   "id": "29555c6e",
   "metadata": {
    "ExecuteTime": {
     "end_time": "2022-08-07T08:19:25.269382Z",
     "start_time": "2022-08-07T08:19:25.258653Z"
    }
   },
   "outputs": [
    {
     "name": "stdout",
     "output_type": "stream",
     "text": [
      "* \n",
      "* * \n",
      "* * * \n",
      "* * * * \n",
      "* * * * * \n",
      "* * * * \n",
      "* * * \n",
      "* * \n",
      "* \n"
     ]
    }
   ],
   "source": [
    "for i in range (1,6):\n",
    "    print(\"* \"* i)\n",
    "for i in range (4,0,-1):\n",
    "    print(\"* \"* i)"
   ]
  },
  {
   "cell_type": "markdown",
   "id": "7b22d58e",
   "metadata": {},
   "source": [
    "### 4."
   ]
  },
  {
   "cell_type": "code",
   "execution_count": 9,
   "id": "cf28797f",
   "metadata": {
    "ExecuteTime": {
     "end_time": "2022-08-07T08:19:21.167024Z",
     "start_time": "2022-08-07T08:18:52.282651Z"
    }
   },
   "outputs": [
    {
     "name": "stdout",
     "output_type": "stream",
     "text": [
      "lqa zaaom\n",
      "moaaz aql"
     ]
    }
   ],
   "source": [
    "word = str(input())\n",
    "for i in range(len(word)-1,-1,-1):\n",
    "    print(word[i],end=\"\")"
   ]
  },
  {
   "cell_type": "markdown",
   "id": "80c09cfe",
   "metadata": {},
   "source": [
    "### 5."
   ]
  },
  {
   "cell_type": "code",
   "execution_count": 8,
   "id": "c38e3314",
   "metadata": {
    "ExecuteTime": {
     "end_time": "2022-08-07T08:18:39.157302Z",
     "start_time": "2022-08-07T08:18:39.145316Z"
    }
   },
   "outputs": [
    {
     "name": "stdout",
     "output_type": "stream",
     "text": [
      "555\n"
     ]
    }
   ],
   "source": [
    "def max_of_3(x,y,z):\n",
    "    if (x>=y) and (x>=z):\n",
    "        max = x\n",
    "    elif (y>=x) and (y>=z):\n",
    "         max = y\n",
    "    else:\n",
    "         max = z\n",
    "    return max\n",
    "x = 95\n",
    "y = 555\n",
    "z = 111\n",
    "print(max_of_3(x,y,z))"
   ]
  },
  {
   "cell_type": "markdown",
   "id": "28510daf",
   "metadata": {},
   "source": [
    "### 6."
   ]
  },
  {
   "cell_type": "code",
   "execution_count": 7,
   "id": "23c086ab",
   "metadata": {
    "ExecuteTime": {
     "end_time": "2022-08-07T08:18:24.421482Z",
     "start_time": "2022-08-07T08:18:24.411705Z"
    }
   },
   "outputs": [
    {
     "name": "stdout",
     "output_type": "stream",
     "text": [
      "161\n"
     ]
    }
   ],
   "source": [
    "list1 = [58, 15, 27, 18, 43]\n",
    "def sumlist(list,size):\n",
    "    if (size == 0):\n",
    "        return 0\n",
    "    else:\n",
    "        return list[size - 1] + sumlist(list, size - 1)\n",
    "total = sumlist(list1, len(list1))\n",
    "print(total)"
   ]
  },
  {
   "cell_type": "markdown",
   "id": "6d8e2311",
   "metadata": {},
   "source": [
    "### 7."
   ]
  },
  {
   "cell_type": "code",
   "execution_count": 6,
   "id": "0469ec0a",
   "metadata": {
    "ExecuteTime": {
     "end_time": "2022-08-07T08:18:21.159441Z",
     "start_time": "2022-08-07T08:18:21.154431Z"
    }
   },
   "outputs": [
    {
     "name": "stdout",
     "output_type": "stream",
     "text": [
      "0\n",
      "1\n",
      "2\n",
      "4\n",
      "5\n"
     ]
    }
   ],
   "source": [
    "for i in range(0,7):\n",
    "    if (i == 3) or (i == 6):\n",
    "        continue\n",
    "    else:\n",
    "        print(i)"
   ]
  },
  {
   "cell_type": "markdown",
   "id": "a2308b27",
   "metadata": {},
   "source": [
    "### 8."
   ]
  },
  {
   "cell_type": "code",
   "execution_count": 5,
   "id": "9d3f5d5d",
   "metadata": {
    "ExecuteTime": {
     "end_time": "2022-08-07T08:18:18.576521Z",
     "start_time": "2022-08-07T08:18:18.563494Z"
    }
   },
   "outputs": [
    {
     "name": "stdout",
     "output_type": "stream",
     "text": [
      "120\n"
     ]
    }
   ],
   "source": [
    "def factorial(n):\n",
    "    i = 1\n",
    "    f = 1 \n",
    "    while i<= n :\n",
    "        f = f*i\n",
    "        i = i+1\n",
    "    return f\n",
    "print(factorial(5))"
   ]
  },
  {
   "cell_type": "markdown",
   "id": "6e2a0091",
   "metadata": {},
   "source": [
    "### 9."
   ]
  },
  {
   "cell_type": "code",
   "execution_count": 1,
   "id": "3b8ec12d",
   "metadata": {
    "ExecuteTime": {
     "end_time": "2022-08-07T08:17:35.131380Z",
     "start_time": "2022-08-07T08:17:35.117447Z"
    }
   },
   "outputs": [
    {
     "name": "stdout",
     "output_type": "stream",
     "text": [
      "[1, 5, 7, 4, 6]\n"
     ]
    }
   ],
   "source": [
    "def unique_L (l):\n",
    "    u = []\n",
    "    for i in l:\n",
    "        if i not in u:\n",
    "            u.append(i)\n",
    "    return u\n",
    "print(unique_L([1,1,5,7,7,4,4,6]))"
   ]
  },
  {
   "cell_type": "markdown",
   "id": "37290da6",
   "metadata": {},
   "source": [
    "### 10."
   ]
  },
  {
   "cell_type": "code",
   "execution_count": 2,
   "id": "7157595e",
   "metadata": {
    "ExecuteTime": {
     "end_time": "2022-08-07T08:17:50.642664Z",
     "start_time": "2022-08-07T08:17:50.634759Z"
    }
   },
   "outputs": [
    {
     "name": "stdout",
     "output_type": "stream",
     "text": [
      "20\n"
     ]
    }
   ],
   "source": [
    "x = lambda n: n + 15\n",
    "print(x(5))"
   ]
  },
  {
   "cell_type": "code",
   "execution_count": 3,
   "id": "20152aed",
   "metadata": {
    "ExecuteTime": {
     "end_time": "2022-08-07T08:18:05.567022Z",
     "start_time": "2022-08-07T08:18:05.554998Z"
    }
   },
   "outputs": [
    {
     "name": "stdout",
     "output_type": "stream",
     "text": [
      "10\n"
     ]
    }
   ],
   "source": [
    "z = lambda x,y: x * y\n",
    "print(z(2,5))"
   ]
  },
  {
   "cell_type": "code",
   "execution_count": null,
   "id": "285aa0ba",
   "metadata": {},
   "outputs": [],
   "source": []
  }
 ],
 "metadata": {
  "kernelspec": {
   "display_name": "Python 3 (ipykernel)",
   "language": "python",
   "name": "python3"
  },
  "language_info": {
   "codemirror_mode": {
    "name": "ipython",
    "version": 3
   },
   "file_extension": ".py",
   "mimetype": "text/x-python",
   "name": "python",
   "nbconvert_exporter": "python",
   "pygments_lexer": "ipython3",
   "version": "3.9.7"
  }
 },
 "nbformat": 4,
 "nbformat_minor": 5
}
