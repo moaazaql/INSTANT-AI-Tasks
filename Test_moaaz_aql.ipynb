{
 "cells": [
  {
   "cell_type": "markdown",
   "id": "6a576a3d",
   "metadata": {},
   "source": [
    "### Question 1: \n",
    "\n",
    "What is AI? "
   ]
  },
  {
   "cell_type": "markdown",
   "id": "163aad5c",
   "metadata": {},
   "source": [
    "The ability to make the best possible decision as quickly as possible based on a logical analysis that is not subjected to human influences.\n",
    "\n",
    "القدرة على اتخاذ أفضل قرار ممكن بأسرع وقت ممكن بناءا على تحليل منطقي غير خاضع للمؤثرات البشرية"
   ]
  },
  {
   "cell_type": "markdown",
   "id": "d2d0fdf8",
   "metadata": {},
   "source": [
    "### Question 2: \n",
    "Why AI is used ? "
   ]
  },
  {
   "cell_type": "markdown",
   "id": "cc6832f9",
   "metadata": {},
   "source": [
    "AI is used for tow purposes\n",
    "\n",
    "1- generalization:\n",
    "\n",
    "It is to find a general solution to the problem that is highly efficient so that it is suitable for any of its parts.\n",
    "\n",
    "\n",
    "2- Optimization:\n",
    "\n",
    "It is to find the optimal solution to the problem.\n"
   ]
  },
  {
   "cell_type": "markdown",
   "id": "218581f4",
   "metadata": {},
   "source": [
    "### Question 3:\n",
    "When to use AI ? "
   ]
  },
  {
   "cell_type": "markdown",
   "id": "1e7a0135",
   "metadata": {},
   "source": [
    "when a problem requires high ability to analyze large amounts of data quickly and accurately."
   ]
  },
  {
   "cell_type": "markdown",
   "id": "3a9ccfac",
   "metadata": {},
   "source": [
    "### Question 4:\n",
    "\n",
    "Define the AI pipeline"
   ]
  },
  {
   "cell_type": "markdown",
   "id": "3ae5e282",
   "metadata": {},
   "source": [
    "AI pipeline is the steps to solve a problem using  AI : \n",
    "\n",
    "Verify \n",
    "\n",
    "Data Collection \n",
    "\n",
    "Data Preprocessing\n",
    "\n",
    "Feature Engineering\n",
    "\n",
    "Model Selection (Machine learning : Advanced statistics, Data modeling)\n",
    "\n",
    "Fitting\n",
    "\n",
    "Training\n",
    "\n",
    "Testing\n",
    "\n",
    "Save model\n",
    "\n",
    "Documentation\n",
    "\n",
    "Integration (Connecting the model to the system)\n",
    "\n",
    "Monitoring\n",
    "\n",
    "Maintenance\n",
    "\n"
   ]
  },
  {
   "cell_type": "markdown",
   "id": "accceeb3",
   "metadata": {},
   "source": [
    "### Question 5:\n",
    "\n",
    "Define the general sequence of Software Engineering..."
   ]
  },
  {
   "cell_type": "markdown",
   "id": "28bb2b7e",
   "metadata": {},
   "source": [
    "planning ---> Analysis ---> design ---> implementation ---> testing and integration ---> maintenance  ---> planning..."
   ]
  },
  {
   "cell_type": "markdown",
   "id": "a293f056",
   "metadata": {},
   "source": [
    "### Question 6: \n",
    "\n",
    "Why DivOps is one of the most used cycles in software engineering?"
   ]
  },
  {
   "cell_type": "markdown",
   "id": "d6453ecf",
   "metadata": {},
   "source": []
  },
  {
   "cell_type": "markdown",
   "id": "ac346297",
   "metadata": {},
   "source": [
    "### Question 7\n",
    "What is software Engineering ?"
   ]
  },
  {
   "cell_type": "markdown",
   "id": "4af8cd8c",
   "metadata": {},
   "source": []
  },
  {
   "cell_type": "markdown",
   "id": "1c2fb447",
   "metadata": {},
   "source": [
    "### Question 8\n",
    "\n",
    "Define MLOPS "
   ]
  },
  {
   "cell_type": "markdown",
   "id": "be247d87",
   "metadata": {},
   "source": []
  },
  {
   "cell_type": "markdown",
   "id": "bc99c5e6",
   "metadata": {},
   "source": [
    "### Question 9\n",
    "Define DataOps"
   ]
  },
  {
   "cell_type": "markdown",
   "id": "6c2e2d51",
   "metadata": {},
   "source": []
  },
  {
   "cell_type": "markdown",
   "id": "02613a0f",
   "metadata": {},
   "source": [
    "### Question 10\n",
    "\n",
    "AI is ....% Data Operations , and ..... Model Creation "
   ]
  },
  {
   "cell_type": "markdown",
   "id": "d7b4bc69",
   "metadata": {},
   "source": [
    "AI is 80% Data Operations , and 20% Model Creation"
   ]
  },
  {
   "cell_type": "markdown",
   "id": "a13df1ff",
   "metadata": {},
   "source": [
    "### Question 11\n",
    "\n",
    "Give 5 Examples of AI driven Companies in Egypt\n"
   ]
  },
  {
   "cell_type": "markdown",
   "id": "00586d10",
   "metadata": {},
   "source": [
    "1- ASU Eng iHub // Machine Learning.\n",
    "\n",
    "2- Ingram Micro // Data Science, Business Intelligence.\n",
    "\n",
    "3- PandoraBox.AI // Artificial Intelligence Services.\n",
    "\n",
    "4- Smart Medical Services // Machine Learning\n",
    "\n",
    "5- In-touch // Machine Learning, Deep Learning\n"
   ]
  },
  {
   "cell_type": "markdown",
   "id": "8db77a51",
   "metadata": {},
   "source": []
  },
  {
   "cell_type": "markdown",
   "id": "01dbf289",
   "metadata": {
    "heading_collapsed": true
   },
   "source": [
    "### Question 12\n",
    "What are the main fields of AI in Egypt?\n"
   ]
  },
  {
   "cell_type": "markdown",
   "id": "a9c2c4ce",
   "metadata": {
    "hidden": true
   },
   "source": [
    "- Search Engine Optimization\n",
    "\n",
    "- Machine Learning\n",
    "\n",
    "- AI education and research\n",
    "\n",
    "- Image Processing\n",
    "\n",
    "- Business Intelligence\n",
    "\n",
    "- computer vision\n",
    "\n"
   ]
  },
  {
   "cell_type": "markdown",
   "id": "c5e470bd",
   "metadata": {
    "hidden": true
   },
   "source": []
  },
  {
   "cell_type": "markdown",
   "id": "c6395f95",
   "metadata": {},
   "source": [
    "### Question 13\n",
    "Define Data Science"
   ]
  },
  {
   "cell_type": "markdown",
   "id": "a3668157",
   "metadata": {},
   "source": [
    "Data science is the domain of study that deals with big volumes of data using modern tools and techniques to find unseen patterns, derive meaningful information, and make business decisions. "
   ]
  },
  {
   "cell_type": "markdown",
   "id": "d00e59fb",
   "metadata": {},
   "source": []
  },
  {
   "cell_type": "markdown",
   "id": "73bba650",
   "metadata": {},
   "source": [
    "### Question 14 \n",
    "What is the difference between Data Engineer, Data Analyst and Data Scientist "
   ]
  },
  {
   "cell_type": "markdown",
   "id": "8c849bc9",
   "metadata": {},
   "source": [
    "### data analyst\n",
    "\n",
    "Analyzing the data through descriptive statistics.\n",
    "\n",
    "does not directly participate in the decision-making process, rather, he helps indirectly through providing static insights about company performance. \n",
    "\n",
    "### data engineer\n",
    "\n",
    "is responsible for developing a platform that data analysts and data scientists work on, and development and maintenance of data pipelines.\n",
    "\n",
    "### data scientist \n",
    "\n",
    "is responsible for unearthing future insights from existing data and helping companies to make data-driven decisions."
   ]
  },
  {
   "cell_type": "markdown",
   "id": "0f491cb9",
   "metadata": {},
   "source": []
  },
  {
   "cell_type": "markdown",
   "id": "1d334500",
   "metadata": {},
   "source": [
    "### Question 15\n",
    "What are the most important skills an AI Engineer must have? "
   ]
  },
  {
   "cell_type": "markdown",
   "id": "edaa6f1f",
   "metadata": {},
   "source": [
    "first : Basic skils \n",
    "\n",
    "Programming\n",
    "\n",
    "Linear algebra \n",
    "\n",
    "Statistics and probability\n",
    "\n",
    "Data Science\n",
    "\n",
    "Data Engineering\n",
    "\n",
    "Exploratory data analysis \n",
    "\n",
    "then the skills that are required for actual work in AI field\n",
    "\n",
    "Machine Learning\n",
    "\n",
    "Neural Networks\n",
    "\n",
    "Natural Language Processing\n",
    "\n",
    "Visual Image Recognition\n"
   ]
  },
  {
   "cell_type": "markdown",
   "id": "4a1bec93",
   "metadata": {},
   "source": []
  },
  {
   "cell_type": "markdown",
   "id": "af356a7e",
   "metadata": {},
   "source": [
    "### Question 16: ( Bonus ) \n",
    "Who is my favorite Character in My favoirte Show "
   ]
  },
  {
   "cell_type": "code",
   "execution_count": null,
   "id": "a1bd57e6",
   "metadata": {
    "ExecuteTime": {
     "end_time": "2022-03-05T16:34:27.424995Z",
     "start_time": "2022-03-05T16:34:26.968182Z"
    }
   },
   "outputs": [],
   "source": []
  },
  {
   "cell_type": "markdown",
   "id": "c8036275",
   "metadata": {},
   "source": []
  },
  {
   "cell_type": "markdown",
   "id": "3f5f4f84",
   "metadata": {
    "heading_collapsed": true
   },
   "source": [
    "### Question 17: ( Bonus )\n",
    "What is my favorite TV Show"
   ]
  },
  {
   "cell_type": "code",
   "execution_count": null,
   "id": "c7efecc9",
   "metadata": {
    "hidden": true
   },
   "outputs": [],
   "source": []
  },
  {
   "cell_type": "markdown",
   "id": "63b63b6e",
   "metadata": {
    "hidden": true
   },
   "source": []
  },
  {
   "cell_type": "markdown",
   "id": "9b32666b",
   "metadata": {},
   "source": [
    "### Question 18: \n",
    "What are the possible methods to collect our data? "
   ]
  },
  {
   "cell_type": "markdown",
   "id": "3cafc257",
   "metadata": {},
   "source": [
    "Surveys \n",
    "\n",
    "Observations\n",
    "\n",
    "Online Tracking\n",
    "\n",
    "Social Media Monitoring\n",
    "\n",
    "Interviews and Focus Groups"
   ]
  },
  {
   "cell_type": "markdown",
   "id": "e4cd67ab",
   "metadata": {},
   "source": []
  },
  {
   "cell_type": "markdown",
   "id": "bf7d6a7d",
   "metadata": {},
   "source": [
    "### Question 19: \n",
    "What is Feature Engineering? "
   ]
  },
  {
   "cell_type": "markdown",
   "id": "29baf207",
   "metadata": {},
   "source": [
    "Feature engineering refers to manipulation — addition, deletion, combination, mutation — of your data set to improve machine learning model training, leading to better performance and greater accuracy"
   ]
  },
  {
   "cell_type": "markdown",
   "id": "afbe1895",
   "metadata": {},
   "source": []
  },
  {
   "cell_type": "markdown",
   "id": "aa1e2ea5",
   "metadata": {},
   "source": [
    "### Question 20: \n",
    "What are the main fields of mathematics used in AI? "
   ]
  },
  {
   "cell_type": "markdown",
   "id": "a644fd88",
   "metadata": {},
   "source": [
    "Linear algebra\n",
    "\n",
    "calculus \n",
    "\n",
    "Statistics and Probability"
   ]
  },
  {
   "cell_type": "markdown",
   "id": "d13086b5",
   "metadata": {},
   "source": []
  },
  {
   "cell_type": "markdown",
   "id": "419d022b",
   "metadata": {
    "heading_collapsed": true
   },
   "source": [
    "### Question 21:\n",
    "What is Data Sampling ?"
   ]
  },
  {
   "cell_type": "markdown",
   "id": "8cb9ae55",
   "metadata": {
    "hidden": true
   },
   "source": [
    "It is the conduct of data analysis operations on a part of the data to get set meaningful information in the larger data set"
   ]
  },
  {
   "cell_type": "markdown",
   "id": "a0d37480",
   "metadata": {
    "hidden": true
   },
   "source": []
  },
  {
   "cell_type": "markdown",
   "id": "458d8ee3",
   "metadata": {
    "heading_collapsed": true
   },
   "source": [
    "### Question 22: \n",
    "What is Sample Size ?"
   ]
  },
  {
   "cell_type": "markdown",
   "id": "34255fad",
   "metadata": {
    "hidden": true
   },
   "source": [
    "the measure of the number of individual samples"
   ]
  },
  {
   "cell_type": "markdown",
   "id": "1ee986dd",
   "metadata": {
    "hidden": true
   },
   "source": []
  },
  {
   "cell_type": "markdown",
   "id": "cfe6048a",
   "metadata": {},
   "source": [
    "### Question 23: \n",
    "How to avoid bad Sampling"
   ]
  },
  {
   "cell_type": "markdown",
   "id": "f999325a",
   "metadata": {},
   "source": [
    "by ensuring that the target population and sampling frame match"
   ]
  },
  {
   "cell_type": "markdown",
   "id": "c77f569a",
   "metadata": {},
   "source": []
  },
  {
   "cell_type": "markdown",
   "id": "c8608601",
   "metadata": {},
   "source": [
    "### Question 24:\n",
    "What are the acceptable range of sampling ?"
   ]
  },
  {
   "cell_type": "markdown",
   "id": "dcf88128",
   "metadata": {},
   "source": [
    "100 ---> 1000   or 10% if it is not more than 1000\n"
   ]
  },
  {
   "cell_type": "markdown",
   "id": "65ee8f45",
   "metadata": {},
   "source": []
  },
  {
   "cell_type": "markdown",
   "id": "1061c6a1",
   "metadata": {},
   "source": [
    "### Question 25:\n",
    "What AI is trying to find when working with data? \n"
   ]
  },
  {
   "cell_type": "markdown",
   "id": "880eb0e4",
   "metadata": {},
   "source": [
    "- trends\n",
    "- patterns \n",
    "- associations\n",
    "- Discover inefficiencies\n"
   ]
  },
  {
   "cell_type": "markdown",
   "id": "5d8494d5",
   "metadata": {},
   "source": []
  },
  {
   "cell_type": "markdown",
   "id": "8cd6d2c8",
   "metadata": {
    "heading_collapsed": true
   },
   "source": [
    "### Question 26:\n",
    "What are the problem of generalizing a result obtained by a sample into the whole data ? "
   ]
  },
  {
   "cell_type": "markdown",
   "id": "fd41cb1e",
   "metadata": {
    "hidden": true
   },
   "source": [
    "Making conclusions about a much broader population than what the sample actually represents.\n",
    "This leads to wrong results and analyzes, which leads to wrong decisions and wrong understanding of the population. "
   ]
  },
  {
   "cell_type": "markdown",
   "id": "edde924c",
   "metadata": {
    "hidden": true
   },
   "source": []
  },
  {
   "cell_type": "markdown",
   "id": "d4a32a06",
   "metadata": {
    "heading_collapsed": true
   },
   "source": [
    "### Question 27:\n",
    "Why do we do Sampling?\n"
   ]
  },
  {
   "cell_type": "markdown",
   "id": "13a3638d",
   "metadata": {
    "hidden": true
   },
   "source": [
    "Because :\n",
    "- A study of an entire population is impossible in most situations\n",
    "   \n",
    "- A study of a sample is less expensive than studying an entire population.\n",
    "\n",
    "- Samples can be studied more quickly than populations. "
   ]
  },
  {
   "cell_type": "markdown",
   "id": "8c6fbb2e",
   "metadata": {
    "hidden": true
   },
   "source": []
  },
  {
   "cell_type": "markdown",
   "id": "f0f9f79b",
   "metadata": {
    "heading_collapsed": true
   },
   "source": [
    "### Question 28: \n",
    "Define Statistical Test"
   ]
  },
  {
   "cell_type": "markdown",
   "id": "9161e65c",
   "metadata": {
    "hidden": true
   },
   "source": [
    "It is a mechanism for making quantitative decisions about a process or processes."
   ]
  },
  {
   "cell_type": "markdown",
   "id": "ca302926",
   "metadata": {
    "hidden": true
   },
   "source": []
  },
  {
   "cell_type": "markdown",
   "id": "8f393944",
   "metadata": {},
   "source": [
    "### Question 29: \n",
    "Suggest methods to work with small data "
   ]
  },
  {
   "cell_type": "code",
   "execution_count": null,
   "id": "368fdd6f",
   "metadata": {},
   "outputs": [],
   "source": []
  },
  {
   "cell_type": "markdown",
   "id": "e8836363",
   "metadata": {},
   "source": []
  },
  {
   "cell_type": "markdown",
   "id": "d53bbd87",
   "metadata": {
    "heading_collapsed": true
   },
   "source": [
    "### Question 30: \n",
    "What are the types of data?"
   ]
  },
  {
   "cell_type": "markdown",
   "id": "32d63cd1",
   "metadata": {
    "hidden": true
   },
   "source": [
    "#### Qualitative Data\n",
    "\n",
    "- Ordinal Data\n",
    "\n",
    "- Nominal Data\n",
    "\n",
    "#### Quantitative Data\n",
    "\n",
    "- Discrete Data\n",
    "\n",
    "- Continuous Data"
   ]
  },
  {
   "cell_type": "markdown",
   "id": "fc32175b",
   "metadata": {
    "hidden": true
   },
   "source": []
  },
  {
   "cell_type": "markdown",
   "id": "beb6efae",
   "metadata": {},
   "source": [
    "### Question 31: \n",
    "What is a programming language?"
   ]
  },
  {
   "cell_type": "markdown",
   "id": "494bee3f",
   "metadata": {},
   "source": [
    "It is a set of commands, written according to defined rules,then executed by the computer."
   ]
  },
  {
   "cell_type": "markdown",
   "id": "806caea0",
   "metadata": {},
   "source": []
  },
  {
   "cell_type": "markdown",
   "id": "1896fdad",
   "metadata": {
    "heading_collapsed": true
   },
   "source": [
    "### Question 32: \n",
    "Give 2 examples of low level programming languages:"
   ]
  },
  {
   "cell_type": "markdown",
   "id": "969a2f8b",
   "metadata": {
    "hidden": true
   },
   "source": [
    "- Machine code(Binary)\n",
    "\n",
    "- Assembly"
   ]
  },
  {
   "cell_type": "markdown",
   "id": "9c9c369c",
   "metadata": {
    "hidden": true
   },
   "source": []
  },
  {
   "cell_type": "markdown",
   "id": "b525bbc3",
   "metadata": {
    "heading_collapsed": true
   },
   "source": [
    "### Question 33: ( Bonus ) \n",
    "What is the difference between java and JavaScript ?"
   ]
  },
  {
   "cell_type": "markdown",
   "id": "f3b5c001",
   "metadata": {
    "hidden": true
   },
   "source": [
    "Java is a compiled language but JavaScript is an interpreted language. "
   ]
  },
  {
   "cell_type": "markdown",
   "id": "fed2831b",
   "metadata": {
    "hidden": true
   },
   "source": []
  },
  {
   "cell_type": "markdown",
   "id": "ed01110b",
   "metadata": {
    "heading_collapsed": true
   },
   "source": [
    "### Question 34: \n",
    "Give a complete definition for python as a programming language"
   ]
  },
  {
   "cell_type": "markdown",
   "id": "8f543d9c",
   "metadata": {
    "hidden": true
   },
   "source": [
    "Python is a general-purpose, interpreted, untyped ,high level,open source\n",
    "computer programming language that is often used to build websites and software, automate tasks, and conduct data analysis."
   ]
  },
  {
   "cell_type": "markdown",
   "id": "f711f301",
   "metadata": {
    "hidden": true
   },
   "source": []
  },
  {
   "cell_type": "markdown",
   "id": "34fde1d4",
   "metadata": {
    "heading_collapsed": true
   },
   "source": [
    "### Question 35:\n",
    "Why do we use python for AI ?"
   ]
  },
  {
   "cell_type": "markdown",
   "id": "895dc9b2",
   "metadata": {
    "hidden": true
   },
   "source": [
    "Because it is an open source language that has many libraries that make AI applications easier and faster than other languages."
   ]
  },
  {
   "cell_type": "markdown",
   "id": "1d1ee1f3",
   "metadata": {
    "hidden": true
   },
   "source": []
  },
  {
   "cell_type": "markdown",
   "id": "a2eb7f45",
   "metadata": {
    "ExecuteTime": {
     "end_time": "2021-06-28T09:06:12.936819Z",
     "start_time": "2021-06-28T09:06:12.930836Z"
    },
    "heading_collapsed": true
   },
   "source": [
    "### Question 36\n",
    "What are the most used programming languages for AI in business? and Why ?  ( State only 3 )"
   ]
  },
  {
   "cell_type": "markdown",
   "id": "780368dd",
   "metadata": {
    "hidden": true
   },
   "source": [
    "- Python\n",
    "\n",
    "- C++\n",
    "\n",
    "- Java"
   ]
  },
  {
   "cell_type": "markdown",
   "id": "5fca80d3",
   "metadata": {
    "hidden": true
   },
   "source": []
  },
  {
   "cell_type": "markdown",
   "id": "123a198c",
   "metadata": {
    "heading_collapsed": true
   },
   "source": [
    "### Question 37: \n",
    "Can we use Simple Machine learning with image data ? and why / why not ? "
   ]
  },
  {
   "cell_type": "code",
   "execution_count": null,
   "id": "bff8fffd",
   "metadata": {
    "hidden": true
   },
   "outputs": [],
   "source": []
  },
  {
   "cell_type": "markdown",
   "id": "00eabdf2",
   "metadata": {
    "hidden": true
   },
   "source": []
  },
  {
   "cell_type": "markdown",
   "id": "fac70cf7",
   "metadata": {
    "heading_collapsed": true
   },
   "source": [
    "### Question 38: \n",
    "What are the basic data types of python ? "
   ]
  },
  {
   "cell_type": "markdown",
   "id": "70387d67",
   "metadata": {
    "hidden": true
   },
   "source": [
    "- Integer\n",
    "\n",
    "- Float\n",
    "\n",
    "- String\n",
    "\n",
    "- Boolean"
   ]
  },
  {
   "cell_type": "markdown",
   "id": "9b68e0d6",
   "metadata": {},
   "source": [
    "### Question 39: \n",
    "What are the basic containers in python ( Data Structure Elements )"
   ]
  },
  {
   "cell_type": "markdown",
   "id": "0af292b2",
   "metadata": {},
   "source": []
  },
  {
   "cell_type": "markdown",
   "id": "5091503f",
   "metadata": {
    "heading_collapsed": true
   },
   "source": [
    "### Question 40: \n",
    "What are the most important packages for python to work with AI ? ( give at least 6 )"
   ]
  },
  {
   "cell_type": "markdown",
   "id": "18ecf111",
   "metadata": {
    "hidden": true
   },
   "source": [
    "1. Numpy\n",
    "\n",
    "2. Pandas\n",
    "\n",
    "3. Matplotlib\n",
    "\n",
    "4. SciPy\n",
    "\n",
    "5. Scikit-learn\n",
    "\n",
    "6. TensorFlow\n"
   ]
  },
  {
   "cell_type": "markdown",
   "id": "3f2afcb7",
   "metadata": {
    "hidden": true
   },
   "source": []
  },
  {
   "cell_type": "markdown",
   "id": "04f6103a",
   "metadata": {
    "heading_collapsed": true
   },
   "source": [
    "### Question 41: \n",
    "What is knowledge domain in data science? "
   ]
  },
  {
   "cell_type": "markdown",
   "id": "ea94d3e1",
   "metadata": {
    "hidden": true
   },
   "source": [
    "It is the field to which the methods of data science are being applied."
   ]
  },
  {
   "cell_type": "markdown",
   "id": "de1b2143",
   "metadata": {
    "hidden": true
   },
   "source": []
  },
  {
   "cell_type": "markdown",
   "id": "f1b27f6b",
   "metadata": {
    "heading_collapsed": true
   },
   "source": [
    "### Question 42: \n",
    "Create a list of theses elements : 1,3,4,16,17,20, \"Ahmed\", \"Mazen\", True"
   ]
  },
  {
   "cell_type": "code",
   "execution_count": 6,
   "id": "2d021853",
   "metadata": {
    "ExecuteTime": {
     "end_time": "2022-03-05T19:28:13.000804Z",
     "start_time": "2022-03-05T19:28:12.996804Z"
    },
    "hidden": true
   },
   "outputs": [],
   "source": [
    "list = [1,3,4,16,17,20, \"Ahmed\", \"Mazen\", True]"
   ]
  },
  {
   "cell_type": "markdown",
   "id": "2e9e357c",
   "metadata": {
    "hidden": true
   },
   "source": []
  },
  {
   "cell_type": "markdown",
   "id": "78f460ea",
   "metadata": {
    "heading_collapsed": true
   },
   "source": [
    "### Question 43: \n",
    "add 7 to the list "
   ]
  },
  {
   "cell_type": "code",
   "execution_count": 7,
   "id": "44555841",
   "metadata": {
    "ExecuteTime": {
     "end_time": "2022-03-05T19:28:14.169940Z",
     "start_time": "2022-03-05T19:28:14.159946Z"
    },
    "hidden": true
   },
   "outputs": [],
   "source": [
    "list.append(7)"
   ]
  },
  {
   "cell_type": "markdown",
   "id": "55792eb4",
   "metadata": {
    "hidden": true
   },
   "source": []
  },
  {
   "cell_type": "markdown",
   "id": "4a7ff235",
   "metadata": {
    "heading_collapsed": true
   },
   "source": [
    "### Question 44: \n",
    "remove 3 from the list "
   ]
  },
  {
   "cell_type": "code",
   "execution_count": 8,
   "id": "88adf65c",
   "metadata": {
    "ExecuteTime": {
     "end_time": "2022-03-05T19:28:15.400528Z",
     "start_time": "2022-03-05T19:28:15.382539Z"
    },
    "hidden": true
   },
   "outputs": [
    {
     "name": "stdout",
     "output_type": "stream",
     "text": [
      "[1, 4, 16, 17, 20, 'Ahmed', 'Mazen', True, 7]\n"
     ]
    }
   ],
   "source": [
    "list.remove(3)\n",
    "print(list)"
   ]
  },
  {
   "cell_type": "markdown",
   "id": "2883ba26",
   "metadata": {
    "hidden": true
   },
   "source": []
  },
  {
   "cell_type": "markdown",
   "id": "dff97409",
   "metadata": {
    "heading_collapsed": true
   },
   "source": [
    "### Question 45: \n",
    "Search for \"Ahmed\" in the list "
   ]
  },
  {
   "cell_type": "code",
   "execution_count": 9,
   "id": "bc9e5403",
   "metadata": {
    "ExecuteTime": {
     "end_time": "2022-03-05T19:28:18.178229Z",
     "start_time": "2022-03-05T19:28:18.168241Z"
    },
    "hidden": true
   },
   "outputs": [
    {
     "data": {
      "text/plain": [
       "5"
      ]
     },
     "execution_count": 9,
     "metadata": {},
     "output_type": "execute_result"
    }
   ],
   "source": [
    "list.index(\"Ahmed\")"
   ]
  },
  {
   "cell_type": "markdown",
   "id": "51bac2ab",
   "metadata": {},
   "source": [
    "### Question 46: \n",
    "Count how many numbers 4 has occured"
   ]
  },
  {
   "cell_type": "code",
   "execution_count": 10,
   "id": "1c3c5b94",
   "metadata": {
    "ExecuteTime": {
     "end_time": "2022-03-05T19:28:22.179091Z",
     "start_time": "2022-03-05T19:28:22.158089Z"
    }
   },
   "outputs": [
    {
     "name": "stdout",
     "output_type": "stream",
     "text": [
      "1\n"
     ]
    }
   ],
   "source": [
    "print(list.count(4))"
   ]
  },
  {
   "cell_type": "markdown",
   "id": "79c2ab72",
   "metadata": {},
   "source": []
  },
  {
   "cell_type": "markdown",
   "id": "668b4e21",
   "metadata": {},
   "source": [
    "### Question 47:\n",
    "print only the even numbers in the list"
   ]
  },
  {
   "cell_type": "code",
   "execution_count": 13,
   "id": "c3cb6abe",
   "metadata": {
    "ExecuteTime": {
     "end_time": "2022-03-05T19:28:45.019599Z",
     "start_time": "2022-03-05T19:28:44.999611Z"
    }
   },
   "outputs": [
    {
     "name": "stdout",
     "output_type": "stream",
     "text": [
      "4 16 20 "
     ]
    },
    {
     "ename": "TypeError",
     "evalue": "not all arguments converted during string formatting",
     "output_type": "error",
     "traceback": [
      "\u001b[1;31m---------------------------------------------------------------------------\u001b[0m",
      "\u001b[1;31mTypeError\u001b[0m                                 Traceback (most recent call last)",
      "Cell \u001b[1;32mIn [13], line 2\u001b[0m\n\u001b[0;32m      1\u001b[0m \u001b[38;5;28;01mfor\u001b[39;00m num \u001b[38;5;129;01min\u001b[39;00m \u001b[38;5;28mlist\u001b[39m:\n\u001b[1;32m----> 2\u001b[0m     \u001b[38;5;28;01mif\u001b[39;00m \u001b[43mnum\u001b[49m\u001b[43m \u001b[49m\u001b[38;5;241;43m%\u001b[39;49m\u001b[43m \u001b[49m\u001b[38;5;241;43m2\u001b[39;49m \u001b[38;5;241m==\u001b[39m \u001b[38;5;241m0\u001b[39m:\n\u001b[0;32m      3\u001b[0m         \u001b[38;5;28mprint\u001b[39m(num, end\u001b[38;5;241m=\u001b[39m\u001b[38;5;124m\"\u001b[39m\u001b[38;5;124m \u001b[39m\u001b[38;5;124m\"\u001b[39m)\n",
      "\u001b[1;31mTypeError\u001b[0m: not all arguments converted during string formatting"
     ]
    }
   ],
   "source": [
    "for num in list:\n",
    "    if num % 2 == 0:\n",
    "        print(num, end=\" \")"
   ]
  },
  {
   "cell_type": "markdown",
   "id": "8d3dc713",
   "metadata": {},
   "source": []
  },
  {
   "cell_type": "markdown",
   "id": "8c7c3000",
   "metadata": {
    "heading_collapsed": true
   },
   "source": [
    "### Question 48: \n",
    "Sum only the numeric elements in the list"
   ]
  },
  {
   "cell_type": "code",
   "execution_count": 14,
   "id": "ed5fe114",
   "metadata": {
    "ExecuteTime": {
     "end_time": "2022-03-05T16:44:32.234027Z",
     "start_time": "2022-03-05T16:44:32.217035Z"
    }
   },
   "outputs": [
    {
     "data": {
      "text/plain": [
       "66"
      ]
     },
     "execution_count": 14,
     "metadata": {},
     "output_type": "execute_result"
    }
   ],
   "source": [
    "sum(filter(lambda i: isinstance(i, int), list))"
   ]
  },
  {
   "cell_type": "markdown",
   "id": "e12846fa",
   "metadata": {
    "hidden": true
   },
   "source": []
  },
  {
   "cell_type": "markdown",
   "id": "54dd5ba3",
   "metadata": {
    "heading_collapsed": true
   },
   "source": [
    "### Question 49: \n",
    "convert the list into a set "
   ]
  },
  {
   "cell_type": "code",
   "execution_count": 15,
   "id": "36265fdb",
   "metadata": {
    "ExecuteTime": {
     "end_time": "2022-03-05T19:30:04.581274Z",
     "start_time": "2022-03-05T19:30:04.571278Z"
    },
    "hidden": true
   },
   "outputs": [],
   "source": [
    "ths_set = set(list)"
   ]
  },
  {
   "cell_type": "markdown",
   "id": "5d1818e5",
   "metadata": {
    "hidden": true
   },
   "source": []
  },
  {
   "cell_type": "markdown",
   "id": "8d10f249",
   "metadata": {
    "heading_collapsed": true
   },
   "source": [
    "### Question 50:\n",
    "change the first element to be 25 then print the new list"
   ]
  },
  {
   "cell_type": "code",
   "execution_count": 16,
   "id": "cb1fb618",
   "metadata": {
    "ExecuteTime": {
     "end_time": "2022-03-05T16:46:53.443321Z",
     "start_time": "2022-03-05T16:46:53.424327Z"
    },
    "hidden": true
   },
   "outputs": [
    {
     "name": "stdout",
     "output_type": "stream",
     "text": [
      "[25, 4, 16, 17, 20, 'Ahmed', 'Mazen', True, 7]\n"
     ]
    }
   ],
   "source": [
    "list[0] = 25\n",
    "print(list)"
   ]
  },
  {
   "cell_type": "markdown",
   "id": "2d0621dc",
   "metadata": {
    "hidden": true
   },
   "source": []
  },
  {
   "cell_type": "markdown",
   "id": "7aa6a342",
   "metadata": {
    "heading_collapsed": true
   },
   "source": [
    "### Question 51: \n",
    "Assign only the first 5 values of the list into a new list called AI "
   ]
  },
  {
   "cell_type": "code",
   "execution_count": 21,
   "id": "838e6669",
   "metadata": {
    "ExecuteTime": {
     "end_time": "2022-03-05T16:47:26.807825Z",
     "start_time": "2022-03-05T16:47:26.796833Z"
    },
    "hidden": true
   },
   "outputs": [],
   "source": [
    "AI = []\n",
    "AI.append(list[0:5])\n"
   ]
  },
  {
   "cell_type": "markdown",
   "id": "27bf1df9",
   "metadata": {
    "hidden": true
   },
   "source": []
  },
  {
   "cell_type": "markdown",
   "id": "37e50846",
   "metadata": {},
   "source": [
    "### Question 52: \n",
    "Print the type of each element ( Hint: Use for loop )"
   ]
  },
  {
   "cell_type": "code",
   "execution_count": 23,
   "id": "d40f1f0e",
   "metadata": {
    "ExecuteTime": {
     "end_time": "2022-03-05T16:48:20.010017Z",
     "start_time": "2022-03-05T16:48:19.990028Z"
    }
   },
   "outputs": [
    {
     "name": "stdout",
     "output_type": "stream",
     "text": [
      "[<class 'int'>, <class 'int'>, <class 'int'>, <class 'int'>, <class 'int'>, <class 'str'>, <class 'str'>, <class 'bool'>, <class 'int'>]\n"
     ]
    }
   ],
   "source": [
    "ls = [type(item) for item in list]\n",
    "print(ls)"
   ]
  },
  {
   "cell_type": "markdown",
   "id": "d3597880",
   "metadata": {},
   "source": []
  },
  {
   "cell_type": "markdown",
   "id": "9d5e2d6b",
   "metadata": {
    "heading_collapsed": true
   },
   "source": [
    "### Question 53: \n",
    "Suppose you have a file called new data.csv , write the python code to read this data "
   ]
  },
  {
   "cell_type": "code",
   "execution_count": null,
   "id": "c5c63573",
   "metadata": {
    "ExecuteTime": {
     "end_time": "2022-03-05T16:49:47.430181Z",
     "start_time": "2022-03-05T16:49:46.450918Z"
    },
    "hidden": true
   },
   "outputs": [],
   "source": [
    "#import pandas as pd\n",
    "#data = pd.read_csv(\"new data.csv\")"
   ]
  },
  {
   "cell_type": "markdown",
   "id": "8e8d9a78",
   "metadata": {
    "hidden": true
   },
   "source": []
  },
  {
   "cell_type": "markdown",
   "id": "078cd393",
   "metadata": {},
   "source": [
    "### Question 54: \n",
    "print its columns "
   ]
  },
  {
   "cell_type": "code",
   "execution_count": null,
   "id": "e8245bcb",
   "metadata": {},
   "outputs": [],
   "source": [
    "#data.head()"
   ]
  },
  {
   "cell_type": "markdown",
   "id": "ccd82ce2",
   "metadata": {},
   "source": []
  },
  {
   "cell_type": "markdown",
   "id": "f8403a85",
   "metadata": {
    "heading_collapsed": true
   },
   "source": [
    "### Question 55: \n",
    "What are the packages used for web scrapping? "
   ]
  },
  {
   "cell_type": "markdown",
   "id": "cb5cfdb0",
   "metadata": {
    "hidden": true
   },
   "source": [
    "- Requests\n",
    "\n",
    "- BeautifulSoup\n",
    "\n",
    "- Selenium"
   ]
  },
  {
   "cell_type": "markdown",
   "id": "391a035a",
   "metadata": {
    "hidden": true
   },
   "source": []
  },
  {
   "cell_type": "markdown",
   "id": "282338c7",
   "metadata": {
    "heading_collapsed": true
   },
   "source": [
    "### Question 56: \n",
    "What are the types of learning ?"
   ]
  },
  {
   "cell_type": "markdown",
   "id": "4620b03b",
   "metadata": {
    "hidden": true
   },
   "source": [
    "- Supervised Learning\n",
    "\n",
    "- Reinforcement Learning\n",
    "\n",
    "- Unsupervised Learning"
   ]
  },
  {
   "cell_type": "markdown",
   "id": "98214c9e",
   "metadata": {
    "hidden": true
   },
   "source": []
  },
  {
   "cell_type": "markdown",
   "id": "73e5ac27",
   "metadata": {
    "heading_collapsed": true
   },
   "source": [
    "### Question 57: \n",
    "What are the types of problems AI Can solve ? "
   ]
  },
  {
   "cell_type": "markdown",
   "id": "293ecd21",
   "metadata": {
    "hidden": true
   },
   "source": []
  },
  {
   "cell_type": "markdown",
   "id": "986332a0",
   "metadata": {
    "hidden": true
   },
   "source": []
  },
  {
   "cell_type": "markdown",
   "id": "b7c14eff",
   "metadata": {
    "ExecuteTime": {
     "end_time": "2021-06-28T09:20:22.730948Z",
     "start_time": "2021-06-28T09:20:22.715963Z"
    },
    "heading_collapsed": true
   },
   "source": [
    "### Question 58:\n",
    "What is Data Augmentation?"
   ]
  },
  {
   "cell_type": "markdown",
   "id": "3043e888",
   "metadata": {
    "hidden": true
   },
   "source": [
    "It is a process of artificially increasing the amount of data by generating new data points from existing data."
   ]
  },
  {
   "cell_type": "markdown",
   "id": "feba92a5",
   "metadata": {
    "hidden": true
   },
   "source": []
  },
  {
   "cell_type": "markdown",
   "id": "071e6ccc",
   "metadata": {
    "heading_collapsed": true
   },
   "source": [
    "### Question 59  (Bonus) : \n",
    "What are the types of medical image files?  "
   ]
  },
  {
   "cell_type": "markdown",
   "id": "350f1131",
   "metadata": {
    "hidden": true
   },
   "source": [
    "- Analyze 7.5\n",
    "\n",
    "- NIFTI\n",
    "\n",
    "- MINC\n",
    "\n",
    "- DICOM\n"
   ]
  },
  {
   "cell_type": "markdown",
   "id": "b3b8de34",
   "metadata": {
    "hidden": true
   },
   "source": []
  },
  {
   "cell_type": "markdown",
   "id": "63bb465f",
   "metadata": {},
   "source": [
    "### Question 60: ( Bonus ) \n",
    "What are the 7Vs of Big Data? "
   ]
  },
  {
   "cell_type": "markdown",
   "id": "4ce8c875",
   "metadata": {},
   "source": [
    "- Volume\n",
    "\n",
    "- Velocity\n",
    "\n",
    "- Variety\n",
    "\n",
    "- Variability\n",
    "\n",
    "- Veracity\n",
    "\n",
    "- Value\n",
    "\n",
    "- Visibility"
   ]
  },
  {
   "cell_type": "markdown",
   "id": "fc343b99",
   "metadata": {},
   "source": [
    "### Question 61:\n",
    "What is Dimensionality reduction"
   ]
  },
  {
   "cell_type": "markdown",
   "id": "8311ef20",
   "metadata": {},
   "source": [
    "a machine learning (ML) or statistical technique of reducing the amount of random variables in a problem by obtaining a set of principal variables"
   ]
  },
  {
   "cell_type": "markdown",
   "id": "eb206638",
   "metadata": {},
   "source": [
    "### Question 62:\n",
    "What are the main features of Time Seires Analysis"
   ]
  },
  {
   "cell_type": "code",
   "execution_count": null,
   "id": "167530d0",
   "metadata": {
    "ExecuteTime": {
     "end_time": "2022-03-05T19:33:26.627541Z",
     "start_time": "2022-03-05T19:33:26.602542Z"
    }
   },
   "outputs": [],
   "source": []
  },
  {
   "cell_type": "markdown",
   "id": "140948c5",
   "metadata": {},
   "source": [
    "### Question 62:\n",
    "you're given X,y and  \n",
    "x = [1,3,4,5,6,7,9]\n",
    "y =[1,3,2,2,3,7,9]\n",
    "z = [\"A\" , \"B\",  \"C\" , \"D\", \"E\" , \"F\" , \"G\"] \n",
    "\n",
    "create: \n",
    "1. plot chart \n",
    "2. bar chart\n",
    "3. pie chart\n"
   ]
  },
  {
   "cell_type": "code",
   "execution_count": 24,
   "id": "2a734d81",
   "metadata": {},
   "outputs": [
    {
     "ename": "ModuleNotFoundError",
     "evalue": "No module named 'matplotlib'",
     "output_type": "error",
     "traceback": [
      "\u001b[1;31m---------------------------------------------------------------------------\u001b[0m",
      "\u001b[1;31mModuleNotFoundError\u001b[0m                       Traceback (most recent call last)",
      "Cell \u001b[1;32mIn [24], line 1\u001b[0m\n\u001b[1;32m----> 1\u001b[0m \u001b[38;5;28;01mimport\u001b[39;00m \u001b[38;5;21;01mmatplotlib\u001b[39;00m\u001b[38;5;21;01m.\u001b[39;00m\u001b[38;5;21;01mpyplot\u001b[39;00m \u001b[38;5;28;01mas\u001b[39;00m \u001b[38;5;21;01mplt\u001b[39;00m\n\u001b[0;32m      2\u001b[0m \u001b[38;5;28;01mimport\u001b[39;00m \u001b[38;5;21;01mnumpy\u001b[39;00m \u001b[38;5;28;01mas\u001b[39;00m \u001b[38;5;21;01mnp\u001b[39;00m\n",
      "\u001b[1;31mModuleNotFoundError\u001b[0m: No module named 'matplotlib'"
     ]
    }
   ],
   "source": [
    "import matplotlib.pyplot as plt\n",
    "import numpy as np"
   ]
  },
  {
   "cell_type": "code",
   "execution_count": null,
   "id": "907ebe38",
   "metadata": {
    "ExecuteTime": {
     "end_time": "2022-03-05T17:58:30.788068Z",
     "start_time": "2022-03-05T17:58:30.776073Z"
    }
   },
   "outputs": [],
   "source": [
    "x = [1,3,4,5,6,7,9]\n",
    "y =[1,3,2,2,3,7,9] \n",
    "z = [\"A\" , \"B\", \"C\" , \"D\", \"E\" , \"F\" , \"G\"]\n",
    "\n"
   ]
  },
  {
   "cell_type": "markdown",
   "id": "fa480f3c",
   "metadata": {},
   "source": [
    "### Question 63: \n",
    "Read image from your directory and display it here "
   ]
  },
  {
   "cell_type": "code",
   "execution_count": 31,
   "id": "61be9558",
   "metadata": {},
   "outputs": [
    {
     "data": {
      "text/plain": [
       "-1"
      ]
     },
     "execution_count": 31,
     "metadata": {},
     "output_type": "execute_result"
    }
   ],
   "source": [
    "import cv2 as cv\n",
    "img = cv.imread(\"img2.jpg\")\n",
    "cv.imshow(\"img2\",img)\n",
    "cv.waitKey()"
   ]
  },
  {
   "cell_type": "markdown",
   "id": "f32912df",
   "metadata": {},
   "source": [
    "### Question 64:\n",
    "Explain Gradient Descent ( with Details ) "
   ]
  },
  {
   "cell_type": "code",
   "execution_count": null,
   "id": "bd96e858",
   "metadata": {},
   "outputs": [],
   "source": []
  },
  {
   "cell_type": "markdown",
   "id": "de6c7409",
   "metadata": {},
   "source": [
    "### Question 65:\n",
    "Create pandas dataframe as input from users\n",
    "\n",
    "name, \n",
    "age,\n",
    "id, \n",
    "gender,\n",
    "email, \n",
    "phone number, \n",
    "city,\n",
    "\n",
    "then \n",
    "\n",
    "a. group by city                       \n",
    "b. which city has the most students              \n",
    "c. get all the mails ending with @gmail.com\n",
    "d. get all vodafone phone numbers             \n",
    "e. get the average of ages for each gender               \n",
    "f. plot the relation between number of males to females           \n",
    "g. plot the relation between age and gender             "
   ]
  },
  {
   "cell_type": "code",
   "execution_count": null,
   "id": "c0aab540",
   "metadata": {},
   "outputs": [],
   "source": [
    "import pandas as pd\n",
    "\n",
    "df = pd.DataFrame(columns=[\"name\", \"age\", \"id\", \"gender\" , \"email\" , \"phone number\" , \"city\"])\n",
    "raws = int(raw_input(\"Enter number of raws:\"))\n",
    "\n",
    "for _ in range(raws):\n",
    "    name = raw_input(\"Enter your name \")\n",
    "    age = raw_input(\"Enter your age \")\n",
    "    id_num = raw_input(\"Enter your id\")\n",
    "    gender = raw_input(\"Enter your gender\")\n",
    "    email =  raw_input(\"Enter your email\")\n",
    "    phone =  raw_input(\"Enter your phone number\")\n",
    "    city =  raw_input(\"Enter your city \")\n",
    "    df1 = pd.DataFrame(data=[[name,age,id_num,gender,email,phone,city]],columns=[\"name\", \"age\", \"id\" , \"gender\" , \"email\" , \"phone number\" , \"city\"])\n",
    "    df = pd.concat([df,df1], axis=0)\n",
    "\n",
    "df.groupby(\"city\")\n",
    "\n"
   ]
  },
  {
   "attachments": {
    "images.jpg": {
     "image/jpeg": "[encoded data removed]"
    }
   },
   "cell_type": "markdown",
   "id": "2c124077",
   "metadata": {},
   "source": [
    "### Best Wishes \n",
    "![images.jpg](attachment:images.jpg)"
   ]
  },
  {
   "cell_type": "code",
   "execution_count": null,
   "id": "61269543",
   "metadata": {},
   "outputs": [],
   "source": []
  }
 ],
 "metadata": {
  "kernelspec": {
   "display_name": "Python 3 (ipykernel)",
   "language": "python",
   "name": "python3"
  },
  "language_info": {
   "codemirror_mode": {
    "name": "ipython",
    "version": 3
   },
   "file_extension": ".py",
   "mimetype": "text/x-python",
   "name": "python",
   "nbconvert_exporter": "python",
   "pygments_lexer": "ipython3",
   "version": "3.11.0"
  },
  "toc": {
   "base_numbering": 1,
   "nav_menu": {},
   "number_sections": false,
   "sideBar": true,
   "skip_h1_title": false,
   "title_cell": "Table of Contents",
   "title_sidebar": "Contents",
   "toc_cell": false,
   "toc_position": {
    "height": "calc(100% - 180px)",
    "left": "10px",
    "top": "150px",
    "width": "165px"
   },
   "toc_section_display": true,
   "toc_window_display": false
  },
  "varInspector": {
   "cols": {
    "lenName": 16,
    "lenType": 16,
    "lenVar": 40
   },
   "kernels_config": {
    "python": {
     "delete_cmd_postfix": "",
     "delete_cmd_prefix": "del ",
     "library": "var_list.py",
     "varRefreshCmd": "print(var_dic_list())"
    },
    "r": {
     "delete_cmd_postfix": ") ",
     "delete_cmd_prefix": "rm(",
     "library": "var_list.r",
     "varRefreshCmd": "cat(var_dic_list()) "
    }
   },
   "types_to_exclude": [
    "module",
    "function",
    "builtin_function_or_method",
    "instance",
    "_Feature"
   ],
   "window_display": false
  }
 },
 "nbformat": 4,
 "nbformat_minor": 5
}
